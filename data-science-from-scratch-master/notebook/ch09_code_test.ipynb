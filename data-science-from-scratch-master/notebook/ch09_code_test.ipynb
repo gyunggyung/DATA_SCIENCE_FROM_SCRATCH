{
 "cells": [
  {
   "cell_type": "code",
   "execution_count": 1,
   "metadata": {
    "collapsed": false
   },
   "outputs": [
    {
     "name": "stdout",
     "output_type": "stream",
     "text": [
      "1861\r\n"
     ]
    }
   ],
   "source": [
    "% cat 144bbs2.txt | python egrep.py \"[0-9]\" | python line_count.py"
   ]
  },
  {
   "cell_type": "code",
   "execution_count": 2,
   "metadata": {
    "collapsed": false
   },
   "outputs": [
    {
     "name": "stdout",
     "output_type": "stream",
     "text": [
      "46404\tthe\r\n",
      "36173\tand\r\n",
      "25421\tof\r\n",
      "9209\tto\r\n",
      "8419\tin\r\n",
      "7961\tthat\r\n",
      "6670\tshall\r\n",
      "6595\the\r\n",
      "6398\this\r\n",
      "5945\tunto\r\n"
     ]
    }
   ],
   "source": [
    "% cat the_bible.txt | python most_common_words.py 10"
   ]
  },
  {
   "cell_type": "code",
   "execution_count": 3,
   "metadata": {
    "collapsed": false
   },
   "outputs": [
    {
     "data": {
      "text/plain": [
       "Counter({'aims.ac.za': 2,\n",
       "         'aip.de': 1,\n",
       "         'campus.ru.ac.za': 2,\n",
       "         'dut.ac.za': 3,\n",
       "         'ehu.es': 1,\n",
       "         'fis.ucm.es': 1,\n",
       "         'gmail.com': 28,\n",
       "         'iburst.co.za': 1,\n",
       "         'icra.it': 1,\n",
       "         'icranet.org': 1,\n",
       "         'ieec.uab.es': 1,\n",
       "         'kasi.re.kr': 1,\n",
       "         'myuct.ac.za': 1,\n",
       "         'ru.ac.za': 4,\n",
       "         'stu.ukzn.ac.za': 1,\n",
       "         'sun.ac.za': 1,\n",
       "         'uclouvain.be': 2,\n",
       "         'uct.ac.za': 2,\n",
       "         'uj.ac.za': 1,\n",
       "         'ukzn.ac.za': 3,\n",
       "         'unizulu.ac.za': 2,\n",
       "         'uofk.edu': 1,\n",
       "         'wits.ac.za': 3,\n",
       "         'yahoo.co.uk': 1,\n",
       "         'yahoo.com': 1})"
      ]
     },
     "execution_count": 3,
     "metadata": {},
     "output_type": "execute_result"
    }
   ],
   "source": [
    "from collections import Counter \n",
    "\n",
    "def get_domain(email_address):\n",
    "    return email_address.lower().split(\"@\")[-1]\n",
    "\n",
    "with open(\"email_address.txt\", \"r\") as f:\n",
    "    domain_counts = Counter(get_domain(line.strip()) for line in f if \"@\" in line)\n",
    "\n",
    "domain_counts"
   ]
  },
  {
   "cell_type": "code",
   "execution_count": 4,
   "metadata": {
    "collapsed": false
   },
   "outputs": [
    {
     "data": {
      "text/plain": [
       "[['6/20/2014', 'AAPL', 90.91],\n",
       " ['6/20/2014', 'MSFT', 41.68],\n",
       " ['6/20/2014', 'FB', 64.5],\n",
       " ['6/19/2014', 'AAPL', 91.86],\n",
       " ['6/19/2014', 'MSFT', 41.51]]"
      ]
     },
     "execution_count": 4,
     "metadata": {},
     "output_type": "execute_result"
    }
   ],
   "source": [
    "import csv\n",
    "\n",
    "result = []\n",
    "with open(\"tab_delimited_stock_prices.txt\", \"r\") as f:\n",
    "    reader = csv.reader(f, delimiter=\"\\t\")\n",
    "    for row in reader:\n",
    "        date = row[0]\n",
    "        symbol = row[1]\n",
    "        closing_price = float(row[2])\n",
    "        result.append([date,symbol,closing_price])\n",
    "              \n",
    "result[:5]"
   ]
  }
 ],
 "metadata": {
  "kernelspec": {
   "display_name": "Python 3",
   "language": "python",
   "name": "python3"
  },
  "language_info": {
   "codemirror_mode": {
    "name": "ipython",
    "version": 3
   },
   "file_extension": ".py",
   "mimetype": "text/x-python",
   "name": "python",
   "nbconvert_exporter": "python",
   "pygments_lexer": "ipython3",
   "version": "3.5.1"
  }
 },
 "nbformat": 4,
 "nbformat_minor": 0
}
